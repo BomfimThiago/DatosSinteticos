{
 "cells": [
  {
   "cell_type": "code",
   "execution_count": 2,
   "metadata": {},
   "outputs": [
    {
     "name": "stderr",
     "output_type": "stream",
     "text": [
      "/Users/thiagosantos/Documents/DatosSinteticos/.venv/lib/python3.12/site-packages/tqdm/auto.py:21: TqdmWarning: IProgress not found. Please update jupyter and ipywidgets. See https://ipywidgets.readthedocs.io/en/stable/user_install.html\n",
      "  from .autonotebook import tqdm as notebook_tqdm\n"
     ]
    }
   ],
   "source": [
    "import os\n",
    "import pandas as pd\n",
    "from dotenv import load_dotenv\n",
    "import kagglehub\n"
   ]
  },
  {
   "cell_type": "code",
   "execution_count": 3,
   "metadata": {},
   "outputs": [],
   "source": [
    "load_dotenv()\n",
    "\n",
    "dataset_path = kagglehub.dataset_download(\"luishcaldernb/morosidad\")\n",
    "csv_path = os.path.join(dataset_path, \"data.csv\")\n",
    "df = pd.read_csv(csv_path)"
   ]
  },
  {
   "cell_type": "markdown",
   "metadata": {},
   "source": [
    "| N°  | Variable     | Descripción                                                                                                                                  |\n",
    "|-----:|--------------|----------------------------------------------------------------------------------------------------------------------------------------------|\n",
    "| 1   | Mora         | Morosidad del cliente: {0: paga al día, 1: cliente moroso}                                                                                    |\n",
    "| 2   | Atraso       | Atraso histórico del cliente en días.                                                                                                         |\n",
    "| 3   | Vivienda     | Tipo de vivienda del cliente. Es categórica                                                                                                   |\n",
    "| 4   | Edad         | Edad del cliente.                                                                                                                             |\n",
    "| 5   | Días_lab     | Días laborados en su actual empleo.                                                                                                           |\n",
    "| 6   | Exp_sf       | Meses con experiencia en el sistema financiero, es decir el número de meses que tiene el cliente desde que adquirió algún producto financiero. |\n",
    "| 7   | Nivel_ahorro | Índice del nivel de ahorro del cliente: {0: no tiene ahorros, 12: alto nivel de ahorros}                                                      |\n",
    "| 8   | Ingreso      | Ingresos del cliente.                                                                                                                         |\n",
    "| 9   | Línea_sf     | Línea de crédito en el sistema financiero que el cliente tiene disponible.                                                                    |\n",
    "| 10  | Deuda_sf     | Deuda del cliente en el sistema financiero.                                                                                                   |\n",
    "| 11  | Score        | Calificación crediticia del cliente. Mientras mayor es el score, mejor perfil crediticio tiene el cliente.                                    |\n",
    "| 12  | Zona         | Departamento de residencia del cliente.                                                                                                       |\n",
    "| 13  | Clasif_sbs   | Clasificación SBS. Mientras mayor es el número, peor clasificación tiene el cliente: {0: normal, 1: con problemas potenciales, 2: deficiente, 3: dudoso, 4: pérdida} |\n",
    "| 14  | Nivel_educ   | Nivel educativo máximo alcanzado.                                                                                                             |\n"
   ]
  },
  {
   "cell_type": "code",
   "execution_count": 4,
   "metadata": {},
   "outputs": [
    {
     "data": {
      "text/plain": [
       "mora               0\n",
       "atraso             0\n",
       "vivienda           0\n",
       "edad               0\n",
       "dias_lab           0\n",
       "exp_sf          1830\n",
       "nivel_ahorro       0\n",
       "ingreso            0\n",
       "linea_sf        1127\n",
       "deuda_sf         461\n",
       "score              0\n",
       "zona               0\n",
       "clasif_sbs         0\n",
       "nivel_educ         0\n",
       "dtype: int64"
      ]
     },
     "execution_count": 4,
     "metadata": {},
     "output_type": "execute_result"
    }
   ],
   "source": [
    "df.isnull().sum()  # Verifica se há valores ausentes\n"
   ]
  },
  {
   "cell_type": "code",
   "execution_count": 5,
   "metadata": {},
   "outputs": [
    {
     "data": {
      "text/plain": [
       "0        93.0\n",
       "1         9.0\n",
       "2         8.0\n",
       "3        20.0\n",
       "4         NaN\n",
       "        ...  \n",
       "8394    106.0\n",
       "8395     25.0\n",
       "8396     19.0\n",
       "8397      7.0\n",
       "8398     51.0\n",
       "Name: exp_sf, Length: 8399, dtype: float64"
      ]
     },
     "execution_count": 5,
     "metadata": {},
     "output_type": "execute_result"
    }
   ],
   "source": [
    "df.exp_sf"
   ]
  },
  {
   "cell_type": "code",
   "execution_count": 6,
   "metadata": {},
   "outputs": [
    {
     "data": {
      "text/plain": [
       "mora               0\n",
       "atraso             0\n",
       "vivienda           0\n",
       "edad               0\n",
       "dias_lab           0\n",
       "exp_sf             0\n",
       "nivel_ahorro       0\n",
       "ingreso            0\n",
       "linea_sf        1127\n",
       "deuda_sf         461\n",
       "score              0\n",
       "zona               0\n",
       "clasif_sbs         0\n",
       "nivel_educ         0\n",
       "dtype: int64"
      ]
     },
     "execution_count": 6,
     "metadata": {},
     "output_type": "execute_result"
    }
   ],
   "source": [
    "#Imputamos los valores de la columna exp_sf con la media de la columna\n",
    "df['exp_sf'].fillna(df['exp_sf'].mean(), inplace=True) #Reeplaza poniendo inplace=True\n",
    "#Count of null values of all the database\n",
    "df.isnull().sum()"
   ]
  },
  {
   "cell_type": "code",
   "execution_count": 7,
   "metadata": {},
   "outputs": [
    {
     "data": {
      "text/plain": [
       "(7272, 14)"
      ]
     },
     "execution_count": 7,
     "metadata": {},
     "output_type": "execute_result"
    }
   ],
   "source": [
    "# We drop the rows of the column linea_sf that have null values\n",
    "#Hacemos un drop de las filas de la columna linea_sf que tengan valores nulos\n",
    "#df.dropna(subset=['linea_sf'], inplace=True) #Reeplaza poniendo inplace=True\n",
    "df.dropna(subset=['linea_sf'], inplace=True)\n",
    "df.shape"
   ]
  },
  {
   "cell_type": "code",
   "execution_count": 8,
   "metadata": {},
   "outputs": [
    {
     "data": {
      "text/plain": [
       "mora              0\n",
       "atraso            0\n",
       "vivienda          0\n",
       "edad              0\n",
       "dias_lab          0\n",
       "exp_sf            0\n",
       "nivel_ahorro      0\n",
       "ingreso           0\n",
       "linea_sf          0\n",
       "deuda_sf        330\n",
       "score             0\n",
       "zona              0\n",
       "clasif_sbs        0\n",
       "nivel_educ        0\n",
       "dtype: int64"
      ]
     },
     "execution_count": 8,
     "metadata": {},
     "output_type": "execute_result"
    }
   ],
   "source": [
    "df.isnull().sum()"
   ]
  },
  {
   "cell_type": "code",
   "execution_count": 9,
   "metadata": {},
   "outputs": [
    {
     "data": {
      "text/plain": [
       "(6942, 14)"
      ]
     },
     "execution_count": 9,
     "metadata": {},
     "output_type": "execute_result"
    }
   ],
   "source": [
    "# We drop the rows of the column deuda_sf that have null values as the min is 0 and max is 57094.380000\n",
    "df.dropna(subset=['deuda_sf'], inplace=True)\n",
    "df.isnull().sum()\n",
    "df.shape"
   ]
  },
  {
   "cell_type": "code",
   "execution_count": 10,
   "metadata": {},
   "outputs": [
    {
     "name": "stdout",
     "output_type": "stream",
     "text": [
      "['FAMILIAR' 'PROPIA' 'ALQUILADA']\n",
      "['TECNICA' 'UNIVERSITARIA' 'SECUNDARIA' 'SIN EDUCACION']\n"
     ]
    }
   ],
   "source": [
    "# We show the categories of the column vivienda and nivel_educ\n",
    "print(df['vivienda'].unique())  # Mostramos los valores únicos de la columna deuda_sf\n",
    "print(df['nivel_educ'].unique())  # Mostramos los valores únicos de la columna deuda_sf"
   ]
  },
  {
   "cell_type": "code",
   "execution_count": 11,
   "metadata": {},
   "outputs": [
    {
     "data": {
      "text/plain": [
       "Index(['mora', 'atraso', 'vivienda', 'edad', 'dias_lab', 'exp_sf',\n",
       "       'nivel_ahorro', 'ingreso', 'linea_sf', 'deuda_sf', 'score', 'zona',\n",
       "       'clasif_sbs', 'nivel_educ'],\n",
       "      dtype='object')"
      ]
     },
     "execution_count": 11,
     "metadata": {},
     "output_type": "execute_result"
    }
   ],
   "source": [
    "df.columns"
   ]
  },
  {
   "cell_type": "code",
   "execution_count": 12,
   "metadata": {},
   "outputs": [],
   "source": [
    "## Tus datos de ejemplo\n",
    "#df = pd.DataFrame({'nivel_educativo': ['TECNICA', 'UNIVERSITARIA', 'SECUNDARIA', 'SIN EDUCACION', 'TECNICA']})\n",
    "# Aplicar One-Hot Encoding\n",
    "#df_encoded = pd.get_dummies(df, columns=['nivel_educativo']) print(df_encoded)\n",
    "\n",
    "\n",
    "# We do One-Hot Encoding of the columns vivienda and nivel_educ\n",
    "#df = pd.get_dummies(df, columns=['vivienda', 'nivel_educ'], drop_first=True)\n",
    "final_df = pd.get_dummies(df, columns=['vivienda','nivel_educ'], drop_first=False)\n"
   ]
  },
  {
   "cell_type": "code",
   "execution_count": 13,
   "metadata": {},
   "outputs": [
    {
     "name": "stdout",
     "output_type": "stream",
     "text": [
      "zona\n",
      "Lima             4256\n",
      "Callao            415\n",
      "La Libertad       364\n",
      "Arequipa          293\n",
      "Lambayeque        253\n",
      "Ica               226\n",
      "Piura             217\n",
      "Junin             183\n",
      "Ancash            168\n",
      "Cajamarca         138\n",
      "Loreto             90\n",
      "Cuzco              72\n",
      "Ucayali            64\n",
      "Moquegua           38\n",
      "San Martin         33\n",
      "Huanuco            27\n",
      "Pasco              25\n",
      "Tacna              24\n",
      "Puno               18\n",
      "Ayacucho           15\n",
      "Tumbes             13\n",
      "Apurimac            5\n",
      "Madre de Dios       4\n",
      "Amazonas            1\n",
      "Name: count, dtype: int64\n"
     ]
    }
   ],
   "source": [
    "print(final_df['zona'].value_counts())"
   ]
  },
  {
   "cell_type": "markdown",
   "metadata": {},
   "source": [
    "y = final_df['mora]"
   ]
  },
  {
   "cell_type": "code",
   "execution_count": 14,
   "metadata": {},
   "outputs": [],
   "source": [
    "# melhor dropar zona\n",
    "final_df = final_df.drop('zona', axis=1)"
   ]
  },
  {
   "cell_type": "code",
   "execution_count": 15,
   "metadata": {},
   "outputs": [
    {
     "data": {
      "text/plain": [
       "Index(['mora', 'atraso', 'edad', 'dias_lab', 'exp_sf', 'nivel_ahorro',\n",
       "       'ingreso', 'linea_sf', 'deuda_sf', 'score', 'clasif_sbs',\n",
       "       'vivienda_ALQUILADA', 'vivienda_FAMILIAR', 'vivienda_PROPIA',\n",
       "       'nivel_educ_SECUNDARIA', 'nivel_educ_SIN EDUCACION',\n",
       "       'nivel_educ_TECNICA', 'nivel_educ_UNIVERSITARIA'],\n",
       "      dtype='object')"
      ]
     },
     "execution_count": 15,
     "metadata": {},
     "output_type": "execute_result"
    }
   ],
   "source": [
    "final_df.columns"
   ]
  },
  {
   "cell_type": "code",
   "execution_count": 16,
   "metadata": {},
   "outputs": [
    {
     "data": {
      "text/plain": [
       "Index(['mora', 'atraso', 'edad', 'dias_lab', 'exp_sf', 'nivel_ahorro',\n",
       "       'ingreso', 'linea_sf', 'deuda_sf', 'score', 'clasif_sbs', 'v_alquilado',\n",
       "       'v_familiar', 'v_propietario', 'neduc_secundaria',\n",
       "       'neduc_sin_educacion', 'neduc_tecnica', 'neduc_universitaria'],\n",
       "      dtype='object')"
      ]
     },
     "execution_count": 16,
     "metadata": {},
     "output_type": "execute_result"
    }
   ],
   "source": [
    "# Change the name of the columns vivienda ... and nivel_educ ...\n",
    "#df2.rename(columns={'vivienda_1': 'vivienda_propietario', 'vivienda_2': 'vivienda_alquilado', 'nivel_educ_1': 'nivel_educ_secundaria', 'nivel_educ_2': 'nivel_educ_tecnica', 'nivel_educ_3': 'nivel_educ_universitaria', 'nivel_educ_4': 'nivel_educ_sin_educacion'}, inplace=True)\n",
    "\n",
    "\n",
    "final_df = final_df.rename(columns={'vivienda_ALQUILADA': 'v_alquilado', 'vivienda_FAMILIAR': 'v_familiar', 'vivienda_PROPIA': 'v_propietario', 'nivel_educ_SECUNDARIA': 'neduc_secundaria', 'nivel_educ_SIN EDUCACION': 'neduc_sin_educacion', 'nivel_educ_TECNICA': 'neduc_tecnica', 'nivel_educ_UNIVERSITARIA': 'neduc_universitaria'})\n",
    "final_df.columns"
   ]
  },
  {
   "cell_type": "code",
   "execution_count": 17,
   "metadata": {},
   "outputs": [
    {
     "data": {
      "text/html": [
       "<div>\n",
       "<style scoped>\n",
       "    .dataframe tbody tr th:only-of-type {\n",
       "        vertical-align: middle;\n",
       "    }\n",
       "\n",
       "    .dataframe tbody tr th {\n",
       "        vertical-align: top;\n",
       "    }\n",
       "\n",
       "    .dataframe thead th {\n",
       "        text-align: right;\n",
       "    }\n",
       "</style>\n",
       "<table border=\"1\" class=\"dataframe\">\n",
       "  <thead>\n",
       "    <tr style=\"text-align: right;\">\n",
       "      <th></th>\n",
       "      <th>mora</th>\n",
       "      <th>atraso</th>\n",
       "      <th>edad</th>\n",
       "      <th>dias_lab</th>\n",
       "      <th>exp_sf</th>\n",
       "      <th>nivel_ahorro</th>\n",
       "      <th>ingreso</th>\n",
       "      <th>linea_sf</th>\n",
       "      <th>deuda_sf</th>\n",
       "      <th>score</th>\n",
       "      <th>clasif_sbs</th>\n",
       "      <th>v_alquilado</th>\n",
       "      <th>v_familiar</th>\n",
       "      <th>v_propietario</th>\n",
       "      <th>neduc_secundaria</th>\n",
       "      <th>neduc_sin_educacion</th>\n",
       "      <th>neduc_tecnica</th>\n",
       "      <th>neduc_universitaria</th>\n",
       "    </tr>\n",
       "  </thead>\n",
       "  <tbody>\n",
       "    <tr>\n",
       "      <th>1</th>\n",
       "      <td>0</td>\n",
       "      <td>18</td>\n",
       "      <td>32</td>\n",
       "      <td>4598</td>\n",
       "      <td>9.000000</td>\n",
       "      <td>12</td>\n",
       "      <td>900.0</td>\n",
       "      <td>1824.67</td>\n",
       "      <td>1933.75</td>\n",
       "      <td>175</td>\n",
       "      <td>1</td>\n",
       "      <td>False</td>\n",
       "      <td>True</td>\n",
       "      <td>False</td>\n",
       "      <td>False</td>\n",
       "      <td>False</td>\n",
       "      <td>True</td>\n",
       "      <td>False</td>\n",
       "    </tr>\n",
       "    <tr>\n",
       "      <th>2</th>\n",
       "      <td>0</td>\n",
       "      <td>0</td>\n",
       "      <td>26</td>\n",
       "      <td>5148</td>\n",
       "      <td>8.000000</td>\n",
       "      <td>2</td>\n",
       "      <td>2400.0</td>\n",
       "      <td>2797.38</td>\n",
       "      <td>188.29</td>\n",
       "      <td>187</td>\n",
       "      <td>0</td>\n",
       "      <td>False</td>\n",
       "      <td>True</td>\n",
       "      <td>False</td>\n",
       "      <td>False</td>\n",
       "      <td>False</td>\n",
       "      <td>False</td>\n",
       "      <td>True</td>\n",
       "    </tr>\n",
       "    <tr>\n",
       "      <th>4</th>\n",
       "      <td>0</td>\n",
       "      <td>0</td>\n",
       "      <td>46</td>\n",
       "      <td>3960</td>\n",
       "      <td>32.401583</td>\n",
       "      <td>1</td>\n",
       "      <td>3100.0</td>\n",
       "      <td>2000.00</td>\n",
       "      <td>11010.65</td>\n",
       "      <td>189</td>\n",
       "      <td>0</td>\n",
       "      <td>False</td>\n",
       "      <td>True</td>\n",
       "      <td>False</td>\n",
       "      <td>False</td>\n",
       "      <td>False</td>\n",
       "      <td>True</td>\n",
       "      <td>False</td>\n",
       "    </tr>\n",
       "    <tr>\n",
       "      <th>5</th>\n",
       "      <td>0</td>\n",
       "      <td>22</td>\n",
       "      <td>25</td>\n",
       "      <td>4874</td>\n",
       "      <td>9.000000</td>\n",
       "      <td>12</td>\n",
       "      <td>2200.0</td>\n",
       "      <td>449.92</td>\n",
       "      <td>496.58</td>\n",
       "      <td>220</td>\n",
       "      <td>0</td>\n",
       "      <td>False</td>\n",
       "      <td>True</td>\n",
       "      <td>False</td>\n",
       "      <td>False</td>\n",
       "      <td>False</td>\n",
       "      <td>False</td>\n",
       "      <td>True</td>\n",
       "    </tr>\n",
       "    <tr>\n",
       "      <th>6</th>\n",
       "      <td>0</td>\n",
       "      <td>9</td>\n",
       "      <td>30</td>\n",
       "      <td>3930</td>\n",
       "      <td>12.000000</td>\n",
       "      <td>8</td>\n",
       "      <td>2100.0</td>\n",
       "      <td>4827.64</td>\n",
       "      <td>850.21</td>\n",
       "      <td>193</td>\n",
       "      <td>0</td>\n",
       "      <td>False</td>\n",
       "      <td>True</td>\n",
       "      <td>False</td>\n",
       "      <td>False</td>\n",
       "      <td>False</td>\n",
       "      <td>False</td>\n",
       "      <td>True</td>\n",
       "    </tr>\n",
       "  </tbody>\n",
       "</table>\n",
       "</div>"
      ],
      "text/plain": [
       "   mora  atraso  edad  dias_lab     exp_sf  nivel_ahorro  ingreso  linea_sf  \\\n",
       "1     0      18    32      4598   9.000000            12    900.0   1824.67   \n",
       "2     0       0    26      5148   8.000000             2   2400.0   2797.38   \n",
       "4     0       0    46      3960  32.401583             1   3100.0   2000.00   \n",
       "5     0      22    25      4874   9.000000            12   2200.0    449.92   \n",
       "6     0       9    30      3930  12.000000             8   2100.0   4827.64   \n",
       "\n",
       "   deuda_sf  score  clasif_sbs  v_alquilado  v_familiar  v_propietario  \\\n",
       "1   1933.75    175           1        False        True          False   \n",
       "2    188.29    187           0        False        True          False   \n",
       "4  11010.65    189           0        False        True          False   \n",
       "5    496.58    220           0        False        True          False   \n",
       "6    850.21    193           0        False        True          False   \n",
       "\n",
       "   neduc_secundaria  neduc_sin_educacion  neduc_tecnica  neduc_universitaria  \n",
       "1             False                False           True                False  \n",
       "2             False                False          False                 True  \n",
       "4             False                False           True                False  \n",
       "5             False                False          False                 True  \n",
       "6             False                False          False                 True  "
      ]
     },
     "execution_count": 17,
     "metadata": {},
     "output_type": "execute_result"
    }
   ],
   "source": [
    "final_df.head()"
   ]
  },
  {
   "cell_type": "code",
   "execution_count": 18,
   "metadata": {},
   "outputs": [],
   "source": [
    "final_df.to_csv('../assets/processed_data.csv', index=False)"
   ]
  }
 ],
 "metadata": {
  "kernelspec": {
   "display_name": ".venv",
   "language": "python",
   "name": "python3"
  },
  "language_info": {
   "codemirror_mode": {
    "name": "ipython",
    "version": 3
   },
   "file_extension": ".py",
   "mimetype": "text/x-python",
   "name": "python",
   "nbconvert_exporter": "python",
   "pygments_lexer": "ipython3",
   "version": "3.12.7"
  }
 },
 "nbformat": 4,
 "nbformat_minor": 2
}
