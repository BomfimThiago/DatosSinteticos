{
 "cells": [
  {
   "cell_type": "code",
   "execution_count": 11,
   "metadata": {},
   "outputs": [
    {
     "name": "stdout",
     "output_type": "stream",
     "text": [
      "   mora  atraso  vivienda  edad  dias_lab  exp_sf  nivel_ahorro  ingreso  \\\n",
      "0     0     235  FAMILIAR    30      3748    93.0             5   3500.0   \n",
      "1     0      18  FAMILIAR    32      4598     9.0            12    900.0   \n",
      "2     0       0  FAMILIAR    26      5148     8.0             2   2400.0   \n",
      "3     0       0  FAMILIAR    36      5179    20.0            12   2700.0   \n",
      "4     0       0  FAMILIAR    46      3960     NaN             1   3100.0   \n",
      "\n",
      "   linea_sf  deuda_sf  score         zona  clasif_sbs     nivel_educ  \n",
      "0       NaN      0.00    214         Lima           4  UNIVERSITARIA  \n",
      "1   1824.67   1933.75    175  La Libertad           1        TECNICA  \n",
      "2   2797.38    188.29    187         Lima           0  UNIVERSITARIA  \n",
      "3       NaN      0.00    187       Ancash           0        TECNICA  \n",
      "4   2000.00  11010.65    189         Lima           0        TECNICA  \n"
     ]
    }
   ],
   "source": [
    "import os\n",
    "import pandas as pd\n",
    "from dotenv import load_dotenv\n",
    "import kagglehub\n",
    "\n",
    "\n",
    "load_dotenv()\n",
    "\n",
    "dataset_path = kagglehub.dataset_download(\"luishcaldernb/morosidad\")\n",
    "csv_path = os.path.join(dataset_path, \"data.csv\")\n",
    "df = pd.read_csv(csv_path)"
   ]
  },
  {
   "cell_type": "code",
   "execution_count": 7,
   "metadata": {},
   "outputs": [
    {
     "name": "stdout",
     "output_type": "stream",
     "text": [
      "['data.csv']\n"
     ]
    }
   ],
   "source": [
    "print(os.listdir(dataset_path))  # Mostra os arquivos baixados"
   ]
  },
  {
   "cell_type": "code",
   "execution_count": null,
   "metadata": {},
   "outputs": [],
   "source": []
  }
 ],
 "metadata": {
  "kernelspec": {
   "display_name": "venv",
   "language": "python",
   "name": "python3"
  },
  "language_info": {
   "codemirror_mode": {
    "name": "ipython",
    "version": 3
   },
   "file_extension": ".py",
   "mimetype": "text/x-python",
   "name": "python",
   "nbconvert_exporter": "python",
   "pygments_lexer": "ipython3",
   "version": "3.13.2"
  }
 },
 "nbformat": 4,
 "nbformat_minor": 2
}
